{
 "cells": [
  {
   "cell_type": "code",
   "execution_count": null,
   "id": "2e1e7e8c",
   "metadata": {},
   "outputs": [],
   "source": [
    "Panda.series.string method?\n",
    "\n",
    "str.lower()\n",
    "\n",
    "import pandas as pd\n",
    "import numpy as np\n",
    "technologies= ({\n",
    "    'Courses':[\"SPARK\",\"PYSPARK\",\"HADOOP\",\"PANDAS\"],\n",
    "    'Fee' :['22000','25000','24000','26000'],\n",
    "    'Duration':['30days','50days','40days','60days'],\n",
    "    'Discount':['1000','2300','2500','1400']\n",
    "              })\n",
    "df = pd.DataFrame(technologies)\n",
    "print(df)\n",
    "\n",
    "# convert lowercase column use str.lower()\n",
    "df['Courses'] = df['Courses'].str.lower()\n",
    "print(df)\n",
    "\n",
    "# convert lowercase column use apply()\n",
    "df['Courses'] = df['Courses'].apply(str.lower)\n",
    "print(df)\n",
    "\n",
    "# Use apply() & lambda function\n",
    "df['Courses'].apply(lambda x: x.lower())\n",
    "print(df)\n",
    "\n",
    "# Convert pandas column to lowercase use map()\n",
    "df['Courses'] = df['Courses'].map(str.lower)\n",
    "print(df)\n",
    "\n",
    "====================================\n",
    "str.upper()\n",
    "======================================\n",
    "str.length()\n",
    "\n",
    "import pandas as pd\n",
    "\n",
    "data = pd.DataFrame({\n",
    "\n",
    "    'age' : [15, 17, 20, 14, 25],\n",
    "\n",
    "    'name': [\"Sample\", \"New User\", \"My Name\", \"Jane Doe\", \"John Doe\"]\n",
    "\n",
    "})\n",
    "\n",
    "data['name'].str.len()\n",
    "\n",
    "You'll get the following output:\n",
    "\n",
    "0    6\n",
    "\n",
    "1    8\n",
    "\n",
    "2    7\n",
    "\n",
    "3    8\n",
    "\n",
    "4    8\n",
    "\n",
    "Name: name, dtype: int64\n",
    "========================================\n",
    "str.strip()\n",
    "\n",
    "import numpy as np\n",
    "import pandas as pd\n",
    "s = pd.Series(['1. Bat.  ', '2. Dog!\\n', '3. fox?\\t', np.nan])\n",
    "s.str.strip()\n",
    "\n",
    "str.lstrp()\n",
    "\n",
    "str.rstrp()\n",
    "============================================\n",
    "str.split()\n",
    "\n",
    "import numpy as np\n",
    "import pandas as pd\n",
    "s = pd.Series([\"this is my new pen\",\n",
    "               \"https://www.w3resource.com/pandas/index.php\",\n",
    "               np.nan])\n",
    "s.str.split()\t\t\n",
    "\n",
    "==============================================\n",
    "\n",
    "str.contains()\n",
    "======================================\n",
    "\n",
    "str.replace()\n",
    "====================================\n",
    "str.startswith()\n",
    "====================================\n",
    "str.endswith()\n",
    "======================================\n",
    "str.cat()\n",
    "===================================\n",
    "str.get()\n",
    "==================================\n",
    "str.slice()\n",
    "===============================\n",
    "str.find()\n",
    "===============================\n",
    "\n",
    "\n"
   ]
  },
  {
   "cell_type": "markdown",
   "id": "db1636f9",
   "metadata": {},
   "source": [
    "# string upper()"
   ]
  },
  {
   "cell_type": "code",
   "execution_count": 10,
   "id": "fc2e53dc",
   "metadata": {},
   "outputs": [
    {
     "name": "stdout",
     "output_type": "stream",
     "text": [
      "   Courses    Fee Duration Discount\n",
      "0    SPARK  22000   30days     1000\n",
      "1  PYSPARK  25000   50days     2300\n",
      "2   HADOOP  24000   40days     2500\n",
      "3   PANDAS  26000   60days     1400\n"
     ]
    }
   ],
   "source": [
    "import pandas as pd\n",
    "import numpy as np\n",
    "technologies= ({\n",
    "    'Courses':[\"SPARK\",\"PYSPARK\",\"HADOOP\",\"PANDAS\"],\n",
    "    'Fee' :['22000','25000','24000','26000'],\n",
    "    'Duration':['30days','50days','40days','60days'],\n",
    "    'Discount':['1000','2300','2500','1400']\n",
    "              })\n",
    "df = pd.DataFrame(technologies)\n",
    "\n",
    "# convert uppercase column use str.upper()\n",
    "df['Courses'] = df['Courses'].str.upper()\n",
    "print(df)"
   ]
  },
  {
   "cell_type": "markdown",
   "id": "fe6bbd3e",
   "metadata": {},
   "source": [
    "# String lower()"
   ]
  },
  {
   "cell_type": "code",
   "execution_count": 11,
   "id": "13e94a9f",
   "metadata": {},
   "outputs": [
    {
     "name": "stdout",
     "output_type": "stream",
     "text": [
      "   Courses    Fee Duration Discount\n",
      "0    spark  22000   30days     1000\n",
      "1  pyspark  25000   50days     2300\n",
      "2   hadoop  24000   40days     2500\n",
      "3   pandas  26000   60days     1400\n"
     ]
    }
   ],
   "source": [
    "# convert lowercase column use str.lower()\n",
    "df['Courses'] = df['Courses'].str.lower()\n",
    "print(df)"
   ]
  },
  {
   "cell_type": "markdown",
   "id": "087b14ba",
   "metadata": {},
   "source": [
    "# string len()"
   ]
  },
  {
   "cell_type": "code",
   "execution_count": 8,
   "id": "b1df0d60",
   "metadata": {},
   "outputs": [
    {
     "name": "stdout",
     "output_type": "stream",
     "text": [
      "   Courses    Fee Duration Discount\n",
      "0        5  22000   30days     1000\n",
      "1        7  25000   50days     2300\n",
      "2        6  24000   40days     2500\n",
      "3        6  26000   60days     1400\n"
     ]
    }
   ],
   "source": [
    "df['Courses'] = df['Courses'].str.len()\n",
    "print(df)"
   ]
  },
  {
   "cell_type": "markdown",
   "id": "2c1987e3",
   "metadata": {},
   "source": [
    "# Lambda function"
   ]
  },
  {
   "cell_type": "code",
   "execution_count": 12,
   "id": "800c30f8",
   "metadata": {},
   "outputs": [
    {
     "name": "stdout",
     "output_type": "stream",
     "text": [
      "   Courses    Fee Duration Discount\n",
      "0    spark  22000   30days     1000\n",
      "1  pyspark  25000   50days     2300\n",
      "2   hadoop  24000   40days     2500\n",
      "3   pandas  26000   60days     1400\n"
     ]
    }
   ],
   "source": [
    "# Use apply() & lambda function\n",
    "df['Courses'].apply(lambda x: x.lower())\n",
    "print(df)"
   ]
  },
  {
   "cell_type": "markdown",
   "id": "bdfee1fd",
   "metadata": {},
   "source": [
    "# Convert pandas column to lowercase use map()"
   ]
  },
  {
   "cell_type": "code",
   "execution_count": 14,
   "id": "f681cb6d",
   "metadata": {},
   "outputs": [
    {
     "name": "stdout",
     "output_type": "stream",
     "text": [
      "   Courses    Fee Duration Discount\n",
      "0    spark  22000   30days     1000\n",
      "1  pyspark  25000   50days     2300\n",
      "2   hadoop  24000   40days     2500\n",
      "3   pandas  26000   60days     1400\n"
     ]
    }
   ],
   "source": [
    "df['Courses'] = df['Courses'].map(str.lower)\n",
    "print(df)\n"
   ]
  },
  {
   "cell_type": "markdown",
   "id": "f74cebc0",
   "metadata": {},
   "source": [
    "# Str len()"
   ]
  },
  {
   "cell_type": "code",
   "execution_count": 13,
   "id": "88c708e7",
   "metadata": {},
   "outputs": [
    {
     "data": {
      "text/plain": [
       "0    6\n",
       "1    8\n",
       "2    7\n",
       "3    8\n",
       "4    8\n",
       "Name: name, dtype: int64"
      ]
     },
     "execution_count": 13,
     "metadata": {},
     "output_type": "execute_result"
    }
   ],
   "source": [
    "import pandas as pd\n",
    "\n",
    "data = pd.DataFrame({\n",
    "\n",
    "    'age' : [15, 17, 20, 14, 25],\n",
    "\n",
    "    'name': [\"Sample\", \"New User\", \"My Name\", \"Jane Doe\", \"John Doe\"]\n",
    "\n",
    "})\n",
    "\n",
    "data['name'].str.len()"
   ]
  },
  {
   "cell_type": "markdown",
   "id": "dcdffec4",
   "metadata": {},
   "source": [
    "# strip"
   ]
  },
  {
   "cell_type": "code",
   "execution_count": 15,
   "id": "aa851708",
   "metadata": {},
   "outputs": [
    {
     "data": {
      "text/plain": [
       "0    1. Bat.\n",
       "1    2. Dog!\n",
       "2    3. fox?\n",
       "3        NaN\n",
       "dtype: object"
      ]
     },
     "execution_count": 15,
     "metadata": {},
     "output_type": "execute_result"
    }
   ],
   "source": [
    "import numpy as np\n",
    "import pandas as pd\n",
    "s = pd.Series(['1. Bat.  ', '2. Dog!\\n', '3. fox?\\t', np.nan])\n",
    "s.str.strip()\n"
   ]
  },
  {
   "cell_type": "markdown",
   "id": "a0427685",
   "metadata": {},
   "source": [
    "# Lstrip()"
   ]
  },
  {
   "cell_type": "code",
   "execution_count": 23,
   "id": "b0a4e5bb",
   "metadata": {},
   "outputs": [
    {
     "data": {
      "text/plain": [
       "0    1. Bat.  \n",
       "1    2. Dog!\\n\n",
       "2    3. fox?\\t\n",
       "3          NaN\n",
       "dtype: object"
      ]
     },
     "execution_count": 23,
     "metadata": {},
     "output_type": "execute_result"
    }
   ],
   "source": [
    "import numpy as np\n",
    "import pandas as pd\n",
    "s = pd.Series(['1. Bat.  ', '2. Dog!\\n', '3. fox?\\t', np.nan])\n",
    "\n",
    "\n",
    "s.str.lstrip()"
   ]
  },
  {
   "cell_type": "markdown",
   "id": "61ab49e8",
   "metadata": {},
   "source": [
    "# rstrip()"
   ]
  },
  {
   "cell_type": "code",
   "execution_count": 24,
   "id": "d3bef990",
   "metadata": {},
   "outputs": [
    {
     "data": {
      "text/plain": [
       "0    1. Bat.\n",
       "1    2. Dog!\n",
       "2    3. fox?\n",
       "3        NaN\n",
       "dtype: object"
      ]
     },
     "execution_count": 24,
     "metadata": {},
     "output_type": "execute_result"
    }
   ],
   "source": [
    "import numpy as np\n",
    "import pandas as pd\n",
    "s = pd.Series(['1. Bat.  ', '2. Dog!\\n', '3. fox?\\t', np.nan])\n",
    "\n",
    "s.str.rstrip()"
   ]
  },
  {
   "cell_type": "markdown",
   "id": "da33a08c",
   "metadata": {},
   "source": [
    "# Str split()"
   ]
  },
  {
   "cell_type": "code",
   "execution_count": 20,
   "id": "574675a9",
   "metadata": {},
   "outputs": [
    {
     "data": {
      "text/plain": [
       "0                         [this, is, my, new, pen]\n",
       "1    [https://www.w3resource.com/pandas/index.php]\n",
       "2                                              NaN\n",
       "dtype: object"
      ]
     },
     "execution_count": 20,
     "metadata": {},
     "output_type": "execute_result"
    }
   ],
   "source": [
    "import numpy as np\n",
    "import pandas as pd\n",
    "s = pd.Series([\"this is my new pen\",\n",
    "               \"https://www.w3resource.com/pandas/index.php\",\n",
    "               np.nan])\n",
    "s.str.split()\t\t\n"
   ]
  },
  {
   "cell_type": "markdown",
   "id": "523df2d5",
   "metadata": {},
   "source": [
    "# Str Contain()"
   ]
  },
  {
   "cell_type": "code",
   "execution_count": 30,
   "id": "209cf4d9",
   "metadata": {},
   "outputs": [
    {
     "data": {
      "text/plain": [
       "0    False\n",
       "1    False\n",
       "2      NaN\n",
       "dtype: object"
      ]
     },
     "execution_count": 30,
     "metadata": {},
     "output_type": "execute_result"
    }
   ],
   "source": [
    "import numpy as np\n",
    "import pandas as pd\n",
    "s = pd.Series([\"this is my new pen\",\n",
    "               \"https://www.w3resource.com/pandas/index.php\",\n",
    "               np.nan])\n",
    "s.str.contains('PA')"
   ]
  },
  {
   "cell_type": "markdown",
   "id": "f87af284",
   "metadata": {},
   "source": [
    "# Str replace()"
   ]
  },
  {
   "cell_type": "code",
   "execution_count": 33,
   "id": "86a2804f",
   "metadata": {},
   "outputs": [
    {
     "name": "stderr",
     "output_type": "stream",
     "text": [
      "C:\\Users\\Lenovo\\AppData\\Local\\Temp\\ipykernel_24688\\3051624517.py:6: FutureWarning: The default value of regex will change from True to False in a future version. In addition, single character regular expressions will *not* be treated as literal strings when regex=True.\n",
      "  s.str.replace('.','?')\n"
     ]
    },
    {
     "data": {
      "text/plain": [
       "0                             this is my new pen\n",
       "1    https://www?w3resource?com/pandas/index?php\n",
       "2                                            NaN\n",
       "dtype: object"
      ]
     },
     "execution_count": 33,
     "metadata": {},
     "output_type": "execute_result"
    }
   ],
   "source": [
    "import numpy as np\n",
    "import pandas as pd\n",
    "s = pd.Series([\"this is my new pen\",\n",
    "               \"https://www.w3resource.com/pandas/index.php\",\n",
    "               np.nan])\n",
    "s.str.replace('.','?')"
   ]
  },
  {
   "cell_type": "markdown",
   "id": "7613063b",
   "metadata": {},
   "source": [
    "# Str startswith()"
   ]
  },
  {
   "cell_type": "code",
   "execution_count": 36,
   "id": "8a2dbf94",
   "metadata": {},
   "outputs": [
    {
     "data": {
      "text/plain": [
       "0     True\n",
       "1    False\n",
       "2      NaN\n",
       "dtype: object"
      ]
     },
     "execution_count": 36,
     "metadata": {},
     "output_type": "execute_result"
    }
   ],
   "source": [
    "import numpy as np\n",
    "import pandas as pd\n",
    "s = pd.Series([\"this is my new pen\",\n",
    "               \"https://www.w3resource.com/pandas/index.php\",\n",
    "               np.nan])\n",
    "s.str.startswith('t')"
   ]
  },
  {
   "cell_type": "markdown",
   "id": "5027a927",
   "metadata": {},
   "source": [
    "# str endswith()"
   ]
  },
  {
   "cell_type": "code",
   "execution_count": 37,
   "id": "425e9c28",
   "metadata": {},
   "outputs": [
    {
     "data": {
      "text/plain": [
       "0    False\n",
       "1    False\n",
       "2      NaN\n",
       "dtype: object"
      ]
     },
     "execution_count": 37,
     "metadata": {},
     "output_type": "execute_result"
    }
   ],
   "source": [
    "import numpy as np\n",
    "import pandas as pd\n",
    "s = pd.Series([\"this is my new pen\",\n",
    "               \"https://www.w3resource.com/pandas/index.php\",\n",
    "               np.nan])\n",
    "s.str.endswith('s')"
   ]
  },
  {
   "cell_type": "markdown",
   "id": "1443ee04",
   "metadata": {},
   "source": [
    "# Str cat()"
   ]
  },
  {
   "cell_type": "code",
   "execution_count": 38,
   "id": "02dac241",
   "metadata": {},
   "outputs": [
    {
     "data": {
      "text/plain": [
       "'this is my new penhttps://www.w3resource.com/pandas/index.php'"
      ]
     },
     "execution_count": 38,
     "metadata": {},
     "output_type": "execute_result"
    }
   ],
   "source": [
    "s.str.cat()"
   ]
  },
  {
   "cell_type": "markdown",
   "id": "daf6c16a",
   "metadata": {},
   "source": [
    "# Str get()"
   ]
  },
  {
   "cell_type": "code",
   "execution_count": 48,
   "id": "6eee972e",
   "metadata": {},
   "outputs": [
    {
     "data": {
      "text/plain": [
       "0   NaN\n",
       "1   NaN\n",
       "2   NaN\n",
       "dtype: float64"
      ]
     },
     "execution_count": 48,
     "metadata": {},
     "output_type": "execute_result"
    }
   ],
   "source": [
    "s.str.get('this')"
   ]
  },
  {
   "cell_type": "markdown",
   "id": "65204a5d",
   "metadata": {},
   "source": [
    "#  Str slice()"
   ]
  },
  {
   "cell_type": "code",
   "execution_count": 51,
   "id": "79e39a42",
   "metadata": {},
   "outputs": [
    {
     "data": {
      "text/plain": [
       "0   NaN\n",
       "1   NaN\n",
       "2   NaN\n",
       "dtype: float64"
      ]
     },
     "execution_count": 51,
     "metadata": {},
     "output_type": "execute_result"
    }
   ],
   "source": [
    "s.str.slice('s')"
   ]
  },
  {
   "cell_type": "markdown",
   "id": "eb72e9ad",
   "metadata": {},
   "source": [
    "# str find()"
   ]
  },
  {
   "cell_type": "code",
   "execution_count": 46,
   "id": "02074e9e",
   "metadata": {},
   "outputs": [
    {
     "data": {
      "text/plain": [
       "0    1.0\n",
       "1    0.0\n",
       "2    NaN\n",
       "dtype: float64"
      ]
     },
     "execution_count": 46,
     "metadata": {},
     "output_type": "execute_result"
    }
   ],
   "source": [
    "s.str.find('h')"
   ]
  },
  {
   "cell_type": "code",
   "execution_count": null,
   "id": "725ae9f5",
   "metadata": {},
   "outputs": [],
   "source": []
  }
 ],
 "metadata": {
  "kernelspec": {
   "display_name": "Python 3 (ipykernel)",
   "language": "python",
   "name": "python3"
  },
  "language_info": {
   "codemirror_mode": {
    "name": "ipython",
    "version": 3
   },
   "file_extension": ".py",
   "mimetype": "text/x-python",
   "name": "python",
   "nbconvert_exporter": "python",
   "pygments_lexer": "ipython3",
   "version": "3.9.12"
  }
 },
 "nbformat": 4,
 "nbformat_minor": 5
}
